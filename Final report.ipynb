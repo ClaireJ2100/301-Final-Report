{
 "cells": [
  {
   "cell_type": "markdown",
   "id": "12a445cb-7e1e-4085-ad47-8da1e2f24d06",
   "metadata": {},
   "source": [
    "### Final Report"
   ]
  },
  {
   "cell_type": "markdown",
   "id": "68d05fa6-99d1-4646-97ca-ff91dfb86c8e",
   "metadata": {},
   "source": [
    "Group 5:\n",
    "- Zhengling Jiang"
   ]
  },
  {
   "cell_type": "code",
   "execution_count": null,
   "id": "a53badb9-62fb-41d7-8319-4b8badc89543",
   "metadata": {},
   "outputs": [],
   "source": []
  }
 ],
 "metadata": {
  "kernelspec": {
   "display_name": "R",
   "language": "R",
   "name": "ir"
  },
  "language_info": {
   "codemirror_mode": "r",
   "file_extension": ".r",
   "mimetype": "text/x-r-source",
   "name": "R",
   "pygments_lexer": "r",
   "version": "4.3.1"
  }
 },
 "nbformat": 4,
 "nbformat_minor": 5
}
